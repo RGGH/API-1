{
 "cells": [
  {
   "cell_type": "markdown",
   "id": "15fc2568",
   "metadata": {},
   "source": [
    "###  <span style='color:red '>  |r|e|d|<span style='color:black '>a|n|d|<span style='color:green '> g|r|e|e|n|<span style='color:black '>.|c|o|.|u|k|  </span>"
   ]
  },
  {
   "cell_type": "markdown",
   "id": "df1d24ad",
   "metadata": {},
   "source": [
    "<span style='color:blue '> Examples of slicing NumPy arrays </span>"
   ]
  },
  {
   "cell_type": "code",
   "execution_count": 50,
   "id": "245d9c26",
   "metadata": {},
   "outputs": [],
   "source": [
    "import numpy as np\n",
    "\n",
    "X = np.array([[0, \"No\"],\n",
    "             [10, \"No\"],\n",
    "             [60, \"Yes\"],\n",
    "             [90, \"Yes\"],\n",
    "            ])\n"
   ]
  },
  {
   "cell_type": "code",
   "execution_count": 51,
   "id": "477482f5",
   "metadata": {},
   "outputs": [
    {
     "data": {
      "text/plain": [
       "(4, 1)"
      ]
     },
     "execution_count": 51,
     "metadata": {},
     "output_type": "execute_result"
    }
   ],
   "source": [
    "r  = (X[:,:-1]) # ALL rows, 1st Column - returns 2 dimensional array\n",
    "np.shape(r)"
   ]
  },
  {
   "cell_type": "code",
   "execution_count": 52,
   "id": "5ceb8540",
   "metadata": {},
   "outputs": [
    {
     "data": {
      "text/plain": [
       "array([['0'],\n",
       "       ['10'],\n",
       "       ['60'],\n",
       "       ['90']], dtype='<U21')"
      ]
     },
     "execution_count": 52,
     "metadata": {},
     "output_type": "execute_result"
    }
   ],
   "source": [
    "r"
   ]
  },
  {
   "cell_type": "code",
   "execution_count": 53,
   "id": "7a7c11ef",
   "metadata": {},
   "outputs": [
    {
     "name": "stdout",
     "output_type": "stream",
     "text": [
      "2\n"
     ]
    }
   ],
   "source": [
    "print(r.ndim)"
   ]
  },
  {
   "cell_type": "code",
   "execution_count": 54,
   "id": "dd52a0c2",
   "metadata": {},
   "outputs": [
    {
     "data": {
      "text/plain": [
       "(4,)"
      ]
     },
     "execution_count": 54,
     "metadata": {},
     "output_type": "execute_result"
    }
   ],
   "source": [
    "s = (X[:,0]) # ALL rows, 1st Column - returns 1 dimensional array\n",
    "np.shape(s)"
   ]
  },
  {
   "cell_type": "code",
   "execution_count": 55,
   "id": "b361e306",
   "metadata": {},
   "outputs": [
    {
     "data": {
      "text/plain": [
       "array(['0', '10', '60', '90'], dtype='<U21')"
      ]
     },
     "execution_count": 55,
     "metadata": {},
     "output_type": "execute_result"
    }
   ],
   "source": [
    "s"
   ]
  },
  {
   "cell_type": "code",
   "execution_count": 56,
   "id": "57e245dd",
   "metadata": {},
   "outputs": [
    {
     "name": "stdout",
     "output_type": "stream",
     "text": [
      "1\n"
     ]
    }
   ],
   "source": [
    "print(s.ndim)"
   ]
  }
 ],
 "metadata": {
  "kernelspec": {
   "display_name": "Python 3",
   "language": "python",
   "name": "python3"
  },
  "language_info": {
   "codemirror_mode": {
    "name": "ipython",
    "version": 3
   },
   "file_extension": ".py",
   "mimetype": "text/x-python",
   "name": "python",
   "nbconvert_exporter": "python",
   "pygments_lexer": "ipython3",
   "version": "3.8.10"
  }
 },
 "nbformat": 4,
 "nbformat_minor": 5
}
